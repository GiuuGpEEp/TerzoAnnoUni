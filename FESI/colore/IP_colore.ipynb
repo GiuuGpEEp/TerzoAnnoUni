{
 "cells": [
  {
   "cell_type": "code",
   "execution_count": 82,
   "metadata": {},
   "outputs": [
    {
     "ename": "",
     "evalue": "",
     "output_type": "error",
     "traceback": [
      "\u001b[1;31mFailed to start the Kernel. \n",
      "\u001b[1;31mView Jupyter <a href='command:jupyter.viewOutput'>log</a> for further details."
     ]
    }
   ],
   "source": [
    "import numpy as np\n",
    "import matplotlib.pyplot as plt\n",
    "from skimage import data, io\n",
    "%matplotlib inline"
   ]
  },
  {
   "cell_type": "markdown",
   "metadata": {},
   "source": [
    "#  Immagini a colori\n",
    "\n",
    "Questa attivita' ci aiuta a prendere dimestichezza con le immagini a colori. Dal punto di vista astratto un'immagine a colori è una matrice di elementi ognuno dei quali contiene informazioni vettoriali. La struttura dati è leggermente diversa, come vedremo presto.\n"
   ]
  },
  {
   "cell_type": "code",
   "execution_count": 83,
   "metadata": {},
   "outputs": [],
   "source": [
    "#Con questo frammento di codice carico le due immagini una a fianco all'altra\n",
    "img1 = data.astronaut() # scikit-image comes already with some images  \n",
    "img2 = io.imread('images/apple.png') # or you can load a custom one (see our folder 'images')\n",
    "\n",
    "plt.subplot(1,2,1)\n",
    "plt.imshow(img1)\n",
    "\n",
    "plt.subplot(1,2,2)\n",
    "plt.imshow(img2);"
   ]
  },
  {
   "cell_type": "markdown",
   "metadata": {},
   "source": [
    "### La struttura dati"
   ]
  },
  {
   "cell_type": "code",
   "execution_count": 84,
   "metadata": {},
   "outputs": [],
   "source": [
    "#Le due print sono relative alla stessa immagine, non sto analizzando le immagini separate\n",
    "print(\"image data type is: {}\".format(type(img1))) \n",
    "print(\"image shape is: {}\".format(img1.shape))"
   ]
  },
  {
   "cell_type": "markdown",
   "metadata": {},
   "source": [
    "Un'immagine `RGB` è memorizzata in un array tridimensionale(shape = **rows** $\\mathbf{\\times}$ **columns** $\\mathbf{\\times}$ **channels**). Possiamo analizzarlo a livelli o layer: le intensità di ogni canale sono memorizzate in una matrice. \n",
    "\n",
    "\n",
    " "
   ]
  },
  {
   "cell_type": "code",
   "execution_count": 85,
   "metadata": {},
   "outputs": [],
   "source": [
    "R = img1[:,:,0] #prendo tutte le righe e le colonne del canale zero (Rosso)\n",
    "G = img1[:,:,1]\n",
    "B = img1[:,:,2]\n",
    "print(\"R shape is: {}\".format(R.shape))\n",
    "print(\"G shape is: {}\".format(G.shape))\n",
    "print(\"B shape is: {}\".format(B.shape))"
   ]
  },
  {
   "cell_type": "markdown",
   "metadata": {},
   "source": [
    "Nota: ogni singolo canale è un'immagine che codifica <i>intensità<i>: diamo un'occhiata ai primi elementi dell'immagine <span style=\"color:red\">rossa</span> "
   ]
  },
  {
   "cell_type": "code",
   "execution_count": 86,
   "metadata": {
    "scrolled": true
   },
   "outputs": [],
   "source": [
    "print(R[:3,:5])"
   ]
  },
  {
   "cell_type": "markdown",
   "metadata": {},
   "source": [
    "Qual è il range di valori di ogni singolo canale dell'immagine?"
   ]
  },
  {
   "cell_type": "code",
   "execution_count": 87,
   "metadata": {},
   "outputs": [],
   "source": [
    " print(\"Max value for the red channel: {}\".format(np.max(R)))\n",
    "print(\"Min value for the red channel: {}\".format(np.min(R)))"
   ]
  },
  {
   "cell_type": "markdown",
   "metadata": {},
   "source": [
    "## Visualizzazione dei canali di colore\n",
    "\n",
    "Visualizziamo i tre canali: si tratta di tre immagini ad intensità, che misurano la quantità di rosso, di verde e di blu rispettivamente.\n",
    "\n",
    "NB: Non fatevi ingannare dai falsi colori!!"
   ]
  },
  {
   "cell_type": "code",
   "execution_count": 88,
   "metadata": {},
   "outputs": [],
   "source": [
    "plt.figure(figsize=(15,5))\n",
    "\n",
    "#Misuro l'intensità del rosso, però usando una scala di grigi (porbabilmente per evidenziare meglio(?))\n",
    "plt.subplot(1,3,1)\n",
    "plt.imshow((R), cmap='gray'); #cmap='Reds' <-- falsi colori\n",
    "plt.colorbar(orientation='vertical')\n",
    "plt.title('R')\n",
    "\n",
    "plt.subplot(1,3,2)\n",
    "plt.imshow((G),cmap='gray'); #cmap='Greens');\n",
    "plt.title('G')\n",
    "plt.colorbar(orientation='vertical')\n",
    "\n",
    "plt.subplot(1,3,3)\n",
    "plt.imshow((B),cmap='gray');# cmap='Blues');\n",
    "plt.title('B')\n",
    "plt.colorbar(orientation='vertical')\n",
    "\n",
    "plt.tight_layout() # a handy command that increases spacing between subplots"
   ]
  },
  {
   "cell_type": "markdown",
   "metadata": {},
   "source": [
    "### Interpretiamo i campi di colore\n",
    "\n",
    "Proviamo a interpretare i singoli campi di colore. Per fare ciò utilizziamo un'immagine semplice (un solo oggetto su sfondo bianco), ma un pochino fuorviante (la mela è blu!) <br>\n",
    "Riesco a farmi un'idea sul colore della mela guardando i 3 campi R, G, B? e dello sfondo?"
   ]
  },
  {
   "cell_type": "code",
   "execution_count": 89,
   "metadata": {},
   "outputs": [],
   "source": [
    "R = img2[:,:,0]\n",
    "G = img2[:,:,1]\n",
    "B = img2[:,:,2]\n",
    "\n",
    "plt.figure(figsize=(15,5))\n",
    "\n",
    "plt.subplot(1,3,1)\n",
    "plt.imshow((R), cmap='gray'); #cmap='Reds' <-- falsi colori\n",
    "plt.colorbar(orientation='vertical')\n",
    "plt.title('R')\n",
    "\n",
    "plt.subplot(1,3,2)\n",
    "plt.imshow((G), cmap='gray');\n",
    "plt.title('G')\n",
    "plt.colorbar(orientation='vertical')\n",
    "\n",
    "plt.subplot(1,3,3)\n",
    "plt.imshow((B), cmap='gray');\n",
    "plt.title('B')\n",
    "plt.colorbar(orientation='vertical')\n",
    "\n",
    "plt.tight_layout() # a handy command that increases spacing between subplots"
   ]
  },
  {
   "cell_type": "markdown",
   "metadata": {},
   "source": [
    "## Conversione dei colori\n",
    "\n",
    "### <span style=\"color:red\">R</span><span style=\"color:green\">G</span><span style=\"color:blue\">B</span> to grayscale conversion\n",
    "\n",
    "Come possiamo trasformare un'immagine a colori in un'immagine a livelli di grigio? Esiste una formula che pesa le componenti in modo adeguato\n",
    "\n",
    "$Y = 0.2125 \\cdot R + 0.7154 \\cdot G + 0.0721 \\cdot B$\n",
    "\n",
    "*I coefficienti rappresentano le intensità percepite dalla rappresentazione tricromatica umana: la sensibilità maggiore è sul verde, la minore sul blu* [cit. <a href=\"https://en.wikipedia.org/wiki/Grayscale\">Wikipedia</a>]\n",
    "\n",
    "La funzione qui di seguito implementa la conversione"
   ]
  },
  {
   "cell_type": "code",
   "execution_count": 90,
   "metadata": {},
   "outputs": [],
   "source": [
    "def my_rgb2gray(img):\n",
    "    return 0.2125 * (img[:,:,0]) + 0.7154 * (img[:,:,1]) + 0.0721 * (img[:,:,2])"
   ]
  },
  {
   "cell_type": "code",
   "execution_count": 91,
   "metadata": {},
   "outputs": [],
   "source": [
    "##Code here\n",
    "plt.imshow(my_rgb2gray(img2), cmap='gray'); # nota la mappa di colori scelta qui"
   ]
  },
  {
   "cell_type": "markdown",
   "metadata": {},
   "source": [
    "Nella libreria `skimage` esiste una funzione già pronta **<a href=\"http://scikit-image.org/docs/dev/api/skimage.color.html#skimage.color.rgb2gray\">color.rgb2gray</a>**."
   ]
  },
  {
   "cell_type": "markdown",
   "metadata": {},
   "source": [
    "### Da RGB a HSV\n",
    "\n",
    "Trasformiamo l'immagine in HSV e visualizziamo i tre campi hue, saturation, value. Osservate i range di valori e la complessità nell'analizzare il contenuto dei singoli campi. Siete in grado di spiegarvi il perche' dell'output che visualizzate?"
   ]
  },
  {
   "cell_type": "code",
   "execution_count": 92,
   "metadata": {},
   "outputs": [],
   "source": [
    "from skimage.color import rgb2hsv\n",
    "#image = img1\n",
    "image = img2\n",
    "hsv_img = rgb2hsv(image[:,:,0:3])\n",
    "H = hsv_img[:, :, 0]\n",
    "S = hsv_img[:, :, 1]\n",
    "V = hsv_img[:, :, 2]\n",
    "\n",
    "plt.figure(figsize=(15,5))\n",
    "\n",
    "plt.subplot(1,4,1)\n",
    "plt.imshow(image);  \n",
    "#plt.colorbar(orientation='vertical')\n",
    "plt.title('Image')\n",
    "\n",
    "plt.subplot(1,4,2)\n",
    "plt.imshow((H), cmap='hsv');  \n",
    "plt.colorbar(orientation='vertical')\n",
    "plt.title('Hue')\n",
    "\n",
    "plt.subplot(1,4,3)\n",
    "plt.imshow(S,cmap='gray');\n",
    "plt.title('Saturation')\n",
    "plt.colorbar(orientation='vertical')\n",
    "\n",
    "plt.subplot(1,4,4)\n",
    "plt.imshow(V, cmap='gray');\n",
    "plt.title('Value')\n",
    "plt.colorbar(orientation='vertical')\n",
    "\n",
    "#fig.tight_layout()"
   ]
  },
  {
   "cell_type": "markdown",
   "metadata": {},
   "source": [
    "Lo spazio HSV può essere utile per identificare aree che corrispondono a specifiche tinte ed è molto intuitivo quando ragioniamo sul concetto di similarità tra colori.  "
   ]
  },
  {
   "cell_type": "markdown",
   "metadata": {},
   "source": [
    "## Segmentazione di colore \n",
    "\n",
    "<i>Segmentazione di immagine: </i> un'operazione di elaborazione di immagini che ci permette di identificare aree dell'immagine (componenti connesse) associate ad uno stesso attributo. <br>\n",
    "<i>Segmentazione di colore: </i> un'operazione di elaborazione di immagini che ci permette di identificare aree dell'immagine (componenti connesse) associate ad uno stesso colore o a colori simili. <br>\n",
    "\n",
    "<p>Per questo motivo e' importante capire come valutare la similarita' tra colori.</p>\n",
    "\n",
    "Il modo più semplice per effettuare segmentazione di colore è tramite sogliatura. Parleremo più approfonditamente di di sogliatura nella prossima lezione. Qui la definiamo in modo sommario come un'operazione applicata sull'immagine che ci permette di rilevare elementi il cui valore supera una soglia predefinita.<br>Nel codice notate l'uso dell'operatore relazionale applicato all'intera immagine\n"
   ]
  },
  {
   "cell_type": "code",
   "execution_count": 93,
   "metadata": {},
   "outputs": [],
   "source": [
    "soglia = 100\n",
    "maskRGB = (R > soglia)\n",
    "\n",
    "plt.subplot(1,2,1)\n",
    "plt.imshow(maskRGB, cmap='gray');\n",
    "#plt.title(\"in bianco gli elementi che superano la soglia\")\n",
    "mask3=np.copy(img2)\n",
    "mask3[:,:,0]=mask3[:,:,0]*maskRGB\n",
    "mask3[:,:,1]=mask3[:,:,1]*maskRGB\n",
    "mask3[:,:,2]=mask3[:,:,2]*maskRGB\n",
    "plt.subplot(1,2,2)\n",
    "plt.imshow(mask3);"
   ]
  },
  {
   "cell_type": "code",
   "execution_count": 94,
   "metadata": {},
   "outputs": [],
   "source": [
    "#segmentazione in HSV, le soglie su ogni campo devono essere scelte indipendentemente dal resto\n",
    "mask = ((H>0.55)&(H<0.75)&(V>0.3)&(S>0.1)) # ha senso?\n",
    "plt.imshow(mask, cmap='gray');"
   ]
  },
  {
   "cell_type": "markdown",
   "metadata": {},
   "source": [
    "### Giochiamo con la segmentazione di colore"
   ]
  },
  {
   "cell_type": "code",
   "execution_count": 95,
   "metadata": {},
   "outputs": [],
   "source": [
    "img_coat = io.imread('images/coats.png')\n",
    "\n",
    "plt.subplot(1,2,1)\n",
    "plt.imshow(img_coat);\n",
    "R=img_coat[:,:,0];\n",
    "G=img_coat[:,:,1];\n",
    "B=img_coat[:,:,2];\n",
    "\n",
    "M=((R>60)&(G<80)&(B<80)) #ho cercato pixel molto rossi\n",
    "img_red = np.copy(img_coat)\n",
    "#if M>0 returns the original field value, the red field value \n",
    "img_red[:,:,1]=np.where(M>0,img_coat[:,:,1],img_coat[:,:,0]) \n",
    "img_red[:,:,2]=np.where(M>0,img_coat[:,:,2],img_coat[:,:,0])\n",
    "\n",
    "plt.subplot(1,2,2)\n",
    "plt.imshow(img_red);"
   ]
  },
  {
   "cell_type": "markdown",
   "metadata": {},
   "source": [
    "## Wrap up\n",
    "- cosa è un'immagine a colori e come posso convertirla in un'immagine a intensità luminosa\n",
    "- visualizzare i campi di colore (R,G,B o anche H,S,V) ed essere in grado di commentare le visualizzazioni ottenute. \n",
    "- Se vi mostrassi le sole visualizzazioni dei campi di colore sareste in grado di descrivere l'immagine originale?\n",
    "- Come possiamo realizzare una segmentazione di colore tramite sogliature?\n"
   ]
  },
  {
   "cell_type": "code",
   "execution_count": null,
   "metadata": {},
   "outputs": [],
   "source": []
  },
  {
   "cell_type": "code",
   "execution_count": null,
   "metadata": {},
   "outputs": [],
   "source": []
  }
 ],
 "metadata": {
  "kernelspec": {
   "display_name": "Python 3 (ipykernel)",
   "language": "python",
   "name": "python3"
  }
 },
 "nbformat": 4,
 "nbformat_minor": 4
}
