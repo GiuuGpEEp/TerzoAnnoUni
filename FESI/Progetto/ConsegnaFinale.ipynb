{
 "cells": [
  {
   "cell_type": "markdown",
   "metadata": {},
   "source": [
    "# Progetto Finale di FESI: Segmentazione di Un'immagine\n",
    "***\n",
    "\n",
    "## **Introduzione:** \n",
    "> Dato un dataset di immagini lo scopo dell'esperienza è quello di segmentare delle cellule di malaria, \"separando\" quindi le cellule dalla malattia\n",
    "\n",
    "#### Quesito: Cosa costituisce una buona segmentazione?\n",
    "\n",
    "La segmentazione è un processo di partizionamento di un'immagine digitale in diverse regioni, ognuna delle quali rappresenta un oggetto o una parte di esso presente nell'immagine stessa. Una segmentazione è considerata \"buona\" quando soddisfa i seguenti criteri:\n",
    "- Tutti i pixel all'interno di una stessa regione dovrebbero avere **caratteristiche simili** (colore, intensità, texture) tra loro.\n",
    "- Le **regioni vicine fra loro** dovrebbero essere **più diverse possibile**, in modo da evidenziare i confini degli oggetti.\n",
    "- Il risultato della segmentazione dovrebbe essere abbastanza coerente con il nostro modo di percepire le varie sezioni dell'immagine.\n",
    "\n",
    "In sostanza una segmentazione è buona quando si riesce bene a distinguere, e separare le diverse regioni di interesse in un'immagine.\n",
    "\n",
    "## **Analisi Del Dataset:**\n",
    "Per analisi del dataset si intende lo studio delle caratteristiche delle immagini presenti all'interno del dataset stesso, opzionalmente adottando anche visualizzazioni appropriate (come istogrammi), identificando quindi le sfide principali (come variazioni di colore, intensità e dimensioni) per una corretta segmentazione.\n",
    "\n",
    "Questo è il dataset contenente tutte le 150 immagine di cellule da segmentare:\n",
    "![Dataset](Dataset.png)\n",
    "\n",
    "#### Osservazioni:\n",
    "Come si può vedere vi è un gran numero di cellule che differiscono l'una dall'altra sia dalla dimensione, sia dal colore, sia dalla forma. Inoltre in quasi tutte le immagini sono visibili alcuni artefatti che confondono un po' la visione della cellula: <br> <br>\n",
    "un esempio di **artefatti** possono essere alcune piccole macchie, che tuttavia sono di colore differente dalla malattia, quindi non si riesce a comprendere bene cosa siano, oppure anche lo sfondo stesso. La problematica principale di questi artefatti è che quest'ultimi potrebbero essere rimossi come parte della malattia, oppure influenzare in modo negativo la segmentazione.<br>\n",
    "Ciò che si può fare è quindi sfruttare delle tecniche appropriate di pre-processing (link: cos'è il pre-processing) per filtrare correttamente le informazioni. Per esempio io durante l'analisi ho ignorato i pixel dello sfondo.\n",
    "\n",
    "La **colorazione** delle singole cellule verrà analizzata meglio in seguito, sfruttando degli istogrammi, tuttavia possiamo già affermare con certezza che: la differenza di colore tra le varie cellule è un problema, nel caso si voglia sfruttare un algoritmo di segmentazione che fa affidamento, sull'utilizzo di una soglia fissa per identificare il colore della malattia. Posso affermare ciò perchè è proprio quello che mi è successo durante l'uso del primo metodo di segmentazione che ho provato a implementare (link al segnalibro del notebook quando avrò inserito quella parte). <br> <br>\n",
    "\n",
    "La **dimensione** e la **forma** delle singole cellule può invece costituire un problema per algoritmi che fanno uso di forme geometriche, o comunque di identificazione dei contorni.<br>\n",
    "Infatti identificare i contorni della cellula, e anche della malattia, potrebbe risultare molto complesso proprio a causa del fatto che le cellule non sono di dimensioni e forme simili fra loro, inoltre vi sono alcune immagini dove l'area della malattia non è proprio ben definita. \n",
    "\n",
    "### Analisi Del Dataset - Analisi Degli Istogrammi\n",
    "Per analizzare meglio le colorazioni delle immagini sfrutto degli istogrammi. Inizio importando le librerie che mi serviranno durante tutto il progetto.\n",
    "\n"
   ]
  },
  {
   "cell_type": "code",
   "execution_count": null,
   "metadata": {},
   "outputs": [],
   "source": [
    "import numpy as np\n",
    "import matplotlib.pyplot as plt\n",
    "import cv2\n",
    "from PIL import Image\n",
    "from skimage import measure, morphology"
   ]
  }
 ],
 "metadata": {
  "kernelspec": {
   "display_name": "Python 3 (ipykernel)",
   "language": "python",
   "name": "python3"
  }
 },
 "nbformat": 4,
 "nbformat_minor": 2
}
