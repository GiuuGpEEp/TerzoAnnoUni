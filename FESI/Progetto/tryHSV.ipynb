{
 "cells": [
  {
   "cell_type": "code",
   "execution_count": null,
   "metadata": {
    "vscode": {
     "languageId": "plaintext"
    }
   },
   "outputs": [],
   "source": [
    "from PIL import Image\n",
    "import numpy as np\n",
    "import cv2\n",
    "import matplotlib.pyplot as plt\n",
    "\n",
    "# Caricamento dell'immagine\n",
    "img_path = '/mnt/data/image.png'\n",
    "image = cv2.imread(img_path)\n",
    "image_rgb = cv2.cvtColor(image, cv2.COLOR_BGR2RGB)\n",
    "image_hsv = cv2.cvtColor(image, cv2.COLOR_BGR2HSV)\n",
    "\n",
    "# Visualizzazione dell'immagine originale per riferimento\n",
    "plt.figure(figsize=(10, 5))\n",
    "plt.subplot(1, 2, 1)\n",
    "plt.title(\"Immagine originale\")\n",
    "plt.imshow(image_rgb)\n",
    "plt.axis(\"off\")\n",
    "\n",
    "# Segmentazione preliminare: maschera del parassita (usando HSV)\n",
    "# Range per il viola (parassita)\n",
    "lower_hsv = np.array([120, 50, 50])  # Tonalità viola minimo\n",
    "upper_hsv = np.array([160, 255, 255])  # Tonalità viola massimo\n",
    "mask = cv2.inRange(image_hsv, lower_hsv, upper_hsv)\n",
    "\n",
    "# Applicazione della maschera\n",
    "segmented = cv2.bitwise_and(image_rgb, image_rgb, mask=mask)\n",
    "\n",
    "# Visualizzazione del risultato della segmentazione\n",
    "plt.subplot(1, 2, 2)\n",
    "plt.title(\"Segmentazione del parassita (preliminare)\")\n",
    "plt.imshow(segmented)\n",
    "plt.axis(\"off\")\n",
    "plt.tight_layout()\n",
    "plt.show()"
   ]
  }
 ],
 "metadata": {
  "language_info": {
   "name": "python"
  }
 },
 "nbformat": 4,
 "nbformat_minor": 2
}
