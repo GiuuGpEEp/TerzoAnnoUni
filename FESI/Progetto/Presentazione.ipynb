{
 "cells": [
  {
   "cell_type": "markdown",
   "metadata": {},
   "source": [
    "# **Segmentazione Tramite Sogliatura in scala di Grigi e Analisi dei Colori HSV**\n",
    "***\n",
    "\n",
    "Giuseppe Perricone (S5581676) <br>\n",
    "\n",
    "Collabolatori: \n",
    "- Nocco Sofia (S5589706)\n",
    "- Ho sfruttato chatGPT per alcune implementazioni del codice\n"
   ]
  },
  {
   "cell_type": "markdown",
   "metadata": {},
   "source": [
    "## Introduzione e Obiettivo \n",
    "\n",
    "Dato il seguente dataset di immagini l'obiettivo dell'esperienza è quello di segmentare delle cellule di malaria; \"separando\" quindi le cellule dalla malattia.\n",
    "Anticpo che i due approcci da me utilizzati sono:\n",
    "1. Segmentazione lavorando in scala di grigi, e sfruttando una sogliatura (vedere sezione relativa al [metodo-1](#id-metodo1))\n",
    "2. Segmentazione lavorando in HSV e sfruttare questo spazio di colore per rimuovere le aree con tonalità simile a viola (vedere sezione relativa al [metodo-2](#id-metodo2))\n",
    "\n",
    "![Dataset](Dataset.png) \n",
    "\n",
    "### Cos'è. E cosa rende una segmentazione ottimale?\n",
    "La segmentazione è un processo in cui un'immagine digitale viene divisa in diverse regioni, ognuna delle quali rappresenta un oggetto o una parte di esso presente nell'immagine stessa. Una segmentazione è considerata \"buona\" quando soddisfa i seguenti criteri:\n",
    "- Tutti i pixel all'interno di una stessa regione dovrebbero avere **caratteristiche simili** (colore, intensità, texture) tra loro.\n",
    "- Le **regioni vicine fra loro** dovrebbero essere **più diverse possibile**, in modo da evidenziare i confini degli oggetti.\n",
    "- Il risultato della segmentazione dovrebbe essere abbastanza coerente con il nostro modo di percepire le varie sezioni dell'immagine.\n",
    "\n",
    "In sostanza una segmentazione è buona quando si riesce bene a distinguere, e separare le diverse regioni di interesse in un'immagine."
   ]
  },
  {
   "cell_type": "markdown",
   "metadata": {},
   "source": [
    "## Metodi\n",
    "Per raggiungere l'obiettivo finale ho effettuato un'analisi del dataset, con lo scopo di identificare le possibili difficoltà e i differenti metodi di approccio. <br> Dopo aver fatto ciò ho implementato due algoritmi differenti.\n",
    "\n",
    "#### **Analisi Del Dataset** - Osservazioni (Inserire solo analisi teorica, fare un link alla parte di analisi degli istogrammi presente in esperimenti)\n",
    "...\n",
    "\n",
    "<h4  id=\"id-metodo1\"> <b> Metodo 1 </b> </h4> \n",
    "\n",
    "Inizialmente ho scelto di implementare questo metodo perchè .... ..... ..... lavorare con un'immagine in scala di grigi e utilizzare una sogliatura per effettuare una segmentazione può essere una buona idea per diversi motivi (da riscrivere):\n",
    "\n",
    "1. **Semplicità Computazionale**: Le immagini in scala di grigi riducono la complessità computazionale rispetto alle immagini a colori, poiché ogni pixel è rappresentato da un singolo valore di intensità luminosa anziché da tre valori (RGB). Questo rende gli algoritmi di segmentazione più veloci ed efficienti.\n",
    "\n",
    "2. **Contrasto**: In molti casi, le cellule e le aree di interesse possono avere un contrasto significativo rispetto allo sfondo quando convertite in scala di grigi. Questo contrasto può essere sfruttato per separare facilmente le regioni di interesse dallo sfondo utilizzando tecniche di sogliatura.\n",
    "\n",
    "3. **Riduzione del Rumore**: Le immagini a colori possono contenere variazioni di colore che non sono rilevanti per la segmentazione. Convertendo l'immagine in scala di grigi, si può ridurre il rumore cromatico e concentrarsi solo sulle variazioni di intensità luminosa che sono più significative per la segmentazione.\n",
    "\n",
    "4. **Facilità di Implementazione**: La sogliatura è una tecnica semplice e intuitiva che può essere facilmente implementata. Consiste nel selezionare un valore di soglia e classificare i pixel come appartenenti alla regione di interesse o allo sfondo in base a questo valore. Questo approccio è particolarmente utile quando le regioni di interesse hanno valori di intensità distinti rispetto allo sfondo.\n",
    "\n",
    "In sintesi, lavorare in scala di grigi e utilizzare una sogliatura può semplificare il processo di segmentazione, rendendolo più efficiente e robusto per questo dataset.\n",
    "\n",
    "<h4  id=\"id-metodo2\"> <b> Metodo 2 </b> </h4>\n",
    "Siccome non mi hanno soddisfatto particolarmente i risultati ottenuti con il metodo precedente ho scelto di implementarne un secondo, basato su ....\n",
    "può essere una buona idea lavorare in questo modo per ..... \n",
    "(vedi [approfondimenti] per dettagli aggiuntivi su questo metodo) "
   ]
  },
  {
   "cell_type": "markdown",
   "metadata": {},
   "source": [
    "## ESPERIMENTI - Codice degli algoritmi"
   ]
  },
  {
   "cell_type": "markdown",
   "metadata": {},
   "source": [
    "## APPROFONDIMENTI - Considerazioni finali"
   ]
  }
 ],
 "metadata": {
  "language_info": {
   "name": "python"
  }
 },
 "nbformat": 4,
 "nbformat_minor": 2
}
