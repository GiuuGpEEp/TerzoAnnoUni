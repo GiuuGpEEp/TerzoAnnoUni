{
 "cells": [
  {
   "cell_type": "code",
   "execution_count": 5,
   "id": "1738316b",
   "metadata": {},
   "outputs": [],
   "source": [
    "def extract_features(row):\n",
    "    features = {}\n",
    "\n",
    "    # 1. GOLD DIFF\n",
    "    gold_diff = row.get(\"goldDiff\", [])\n",
    "    if isinstance(gold_diff, str):\n",
    "        gold_diff = eval(gold_diff)\n",
    "    if len(gold_diff) < 10:\n",
    "        gold_diff += [gold_diff[-1]] * (10 - len(gold_diff))  # padding se serve\n",
    "    features[\"avg_gold_diff_10min\"] = np.mean(gold_diff[:10])\n",
    "    features[\"gold_diff_min10\"] = gold_diff[9]\n",
    "\n",
    "    # 2. KILLS\n",
    "    b_kills = [t for t in row.get(\"bKills\", []) if t < 10]\n",
    "    r_kills = [t for t in row.get(\"rKills\", []) if t < 10]\n",
    "    features[\"b_kills_10min\"] = len(b_kills)\n",
    "    features[\"r_kills_10min\"] = len(r_kills)\n",
    "\n",
    "    # 3. TOWERS\n",
    "    b_towers = [t for t in row.get(\"bTowers\", []) if isinstance(t, list) and t[0] < 10]\n",
    "    r_towers = [t for t in row.get(\"rTowers\", []) if isinstance(t, list) and t[0] < 10]\n",
    "    features[\"b_towers_10min\"] = len(b_towers)\n",
    "    features[\"r_towers_10min\"] = len(r_towers)\n",
    "\n",
    "    # 4. DRAGONS\n",
    "    b_dragons = [t for t in row.get(\"bDragons\", []) if t < 10]\n",
    "    r_dragons = [t for t in row.get(\"rDragons\", []) if t < 10]\n",
    "    features[\"b_dragons_10min\"] = len(b_dragons)\n",
    "    features[\"r_dragons_10min\"] = len(r_dragons)\n",
    "\n",
    "    return pd.Series(features)\n"
   ]
  }
 ],
 "metadata": {
  "kernelspec": {
   "display_name": "Python 3 (ipykernel)",
   "language": "python",
   "name": "python3"
  },
  "language_info": {
   "codemirror_mode": {
    "name": "ipython",
    "version": 3
   },
   "file_extension": ".py",
   "mimetype": "text/x-python",
   "name": "python",
   "nbconvert_exporter": "python",
   "pygments_lexer": "ipython3",
   "version": "3.12.3"
  }
 },
 "nbformat": 4,
 "nbformat_minor": 5
}
