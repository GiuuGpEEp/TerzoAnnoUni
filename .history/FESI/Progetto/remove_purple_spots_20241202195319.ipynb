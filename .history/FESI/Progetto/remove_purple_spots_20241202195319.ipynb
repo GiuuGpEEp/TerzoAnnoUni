{
 "cells": [
  {
   "cell_type": "code",
   "execution_count": null,
   "metadata": {
    "vscode": {
     "languageId": "plaintext"
    }
   },
   "outputs": [],
   "source": [
    "# Importa le librerie necessarie\n",
    "                \"import cv2\n",
    "                \"import numpy as np\n",
    "                \"import matplotlib.pyplot as plt\n",
    "                \n",
    "                \"# Carica l'immagine\n",
    "                \"image = cv2.imread('/mnt/data/image.png')  # Sostituisci con il percorso dell'immagine\n",
    "                \"original = image.copy()\n",
    "                \n",
    "                \"# Converti l'immagine nello spazio colore HSV\n",
    "                \"hsv = cv2.cvtColor(image, cv2.COLOR_BGR2HSV)\n",
    "                \n",
    "                \"# Definisci l'intervallo di colore per il viola\n",
    "                \"lower_purple = np.array([120, 50, 50])  # Limite inferiore (Hue, Saturation, Value)\n",
    "                \"upper_purple = np.array([160, 255, 255])  # Limite superiore\n",
    "                \n",
    "                \"# Crea una maschera per isolare le aree viola\n",
    "                \"mask = cv2.inRange(hsv, lower_purple, upper_purple)\n",
    "                \n",
    "                \"# Rimuovi le macchie viola dall'immagine\n",
    "                \"image[mask > 0] = [255, 255, 255]  # Sostituisce il viola con bianco\n",
    "                \n",
    "                \"# Visualizza i risultati\n",
    "                \"fig, axs = plt.subplots(1, 3, figsize=(15, 5))\n",
    "                \"axs[0].imshow(cv2.cvtColor(original, cv2.COLOR_BGR2RGB)),\n",
    "                \"axs[0].set_title('Originale')\n",
    "                \"axs[1].imshow(mask, cmap='gray')\n",
    "                \"axs[1].set_title('Maschera Viola')\n",
    "                \"axs[2].imshow(cv2.cvtColor(image, cv2.COLOR_BGR2RGB))\n",
    "                \"axs[2].set_title('Immagine senza Macchie Viola')\n",
    "                \"for ax in axs:\n",
    "                \"    ax.axis('off')\n",
    "                \"plt.show()"
   ]
  }
 ],
 "metadata": {
  "language_info": {
   "name": "python"
  }
 },
 "nbformat": 4,
 "nbformat_minor": 2
}
